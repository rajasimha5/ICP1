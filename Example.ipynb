{
  "nbformat": 4,
  "nbformat_minor": 0,
  "metadata": {
    "colab": {
      "provenance": [],
      "authorship_tag": "ABX9TyOa7qzuEXyRiRUZq3rf+8cq",
      "include_colab_link": true
    },
    "kernelspec": {
      "name": "python3",
      "display_name": "Python 3"
    },
    "language_info": {
      "name": "python"
    }
  },
  "cells": [
    {
      "cell_type": "markdown",
      "metadata": {
        "id": "view-in-github",
        "colab_type": "text"
      },
      "source": [
        "<a href=\"https://colab.research.google.com/github/rajasimha5/ICP1/blob/main/Example.ipynb\" target=\"_parent\"><img src=\"https://colab.research.google.com/assets/colab-badge.svg\" alt=\"Open In Colab\"/></a>"
      ]
    },
    {
      "cell_type": "code",
      "execution_count": 2,
      "metadata": {
        "colab": {
          "base_uri": "https://localhost:8080/"
        },
        "id": "5cl0CdduSCQA",
        "outputId": "8aff78fd-dded-4915-ffeb-cda62ad92361"
      },
      "outputs": [
        {
          "output_type": "stream",
          "name": "stdout",
          "text": [
            "noht\n"
          ]
        }
      ],
      "source": [
        "s='python'\n",
        "strr=list(s)\n",
        "del strr[0:2]\n",
        "strr.reverse()\n",
        "res=''.join(strr)\n",
        "print(res)"
      ]
    },
    {
      "cell_type": "code",
      "source": [
        "a=float(input(\"enter number1\"))\n",
        "b=float(input(\"enter number2\"))\n",
        "c=a+b\n",
        "d=a-b\n",
        "e=a*b\n",
        "f=a%b\n",
        "print(c)\n",
        "print(d)\n",
        "print(e)\n",
        "print(f)"
      ],
      "metadata": {
        "colab": {
          "base_uri": "https://localhost:8080/"
        },
        "id": "c2APpxQ7VCv6",
        "outputId": "f1190e8b-cbb7-4494-aacc-76e4d2dbd141"
      },
      "execution_count": 3,
      "outputs": [
        {
          "output_type": "stream",
          "name": "stdout",
          "text": [
            "enter number12\n",
            "enter number23\n",
            "5.0\n",
            "-1.0\n",
            "6.0\n",
            "2.0\n"
          ]
        }
      ]
    },
    {
      "cell_type": "code",
      "source": [
        "strr='i love playing with python'\n",
        "strr2=strr.replace(\"python\",\"pythons\")\n",
        "print(strr2)"
      ],
      "metadata": {
        "colab": {
          "base_uri": "https://localhost:8080/"
        },
        "id": "jwpbM7tZVtsa",
        "outputId": "9ccb969a-a49d-4f91-b4ac-70e0f9020197"
      },
      "execution_count": 5,
      "outputs": [
        {
          "output_type": "stream",
          "name": "stdout",
          "text": [
            "i love playing with pythons\n"
          ]
        }
      ]
    },
    {
      "cell_type": "code",
      "source": [
        "input_score=float(input(\"enter score\"))\n",
        "if input_score>=90:\n",
        "  grade='a'\n",
        "elif input_score>=80:\n",
        "  grade='b'\n",
        "elif input_score>=70:\n",
        "  grade='c'\n",
        "elif input_score>=60:\n",
        "  grade='d'\n",
        "else:\n",
        "  grade='f'\n",
        "print(grade)"
      ],
      "metadata": {
        "colab": {
          "base_uri": "https://localhost:8080/"
        },
        "id": "bnAUTXXuWEAj",
        "outputId": "4d4642cf-9484-4731-d535-dd3904df385c"
      },
      "execution_count": 7,
      "outputs": [
        {
          "output_type": "stream",
          "name": "stdout",
          "text": [
            "enter score88\n",
            "b\n"
          ]
        }
      ]
    },
    {
      "cell_type": "code",
      "source": [
        "x=[23,'Python',23.98]\n",
        "print(x)\n",
        "types=[type(i) for i in x]\n",
        "print(types)"
      ],
      "metadata": {
        "colab": {
          "base_uri": "https://localhost:8080/"
        },
        "id": "3OTgcVHKW2Wd",
        "outputId": "55115e29-1e93-430a-e6b6-2a4510bfbf4e"
      },
      "execution_count": 8,
      "outputs": [
        {
          "output_type": "stream",
          "name": "stdout",
          "text": [
            "[23, 'Python', 23.98]\n",
            "[<class 'int'>, <class 'str'>, <class 'float'>]\n"
          ]
        }
      ]
    },
    {
      "cell_type": "code",
      "source": [
        "IT_companies = {'Facebook', 'Google', 'Microsoft', 'Apple', 'IBM', 'Oracle', 'Amazon'}\n",
        "a = {19, 22, 24, 20, 25, 26}\n",
        "b = {19, 22, 20, 25, 26, 24, 28, 27}\n",
        "age = [22, 19, 24, 25, 26, 24, 25, 24]\n",
        "print(\"length of it companies\",len(IT_companies))\n",
        "IT_companies.add(\"Twitter\")\n",
        "print(IT_companies)\n",
        "IT_companies.update(['sony','intel'])\n",
        "print(IT_companies)\n",
        "IT_companies.remove('sony')\n",
        "print(IT_companies)\n",
        "print(\"a union b\",a.union(b))\n",
        "print(\"a intersection b\",a.intersection(b))\n",
        "print(\"is a subset of b\",a.issubset(b))\n",
        "print(\"is disjoint of b\",a.isdisjoint(b))\n",
        "print(\"join a with b\",a.union(b))\n",
        "print(\"join b with a\",b.union(a))\n",
        "print(\"symmetric difference\",a.symmetric_difference(b))\n",
        "del a\n",
        "del b\n",
        "print(\"length of age list\",len(age))\n",
        "age_set=set(age)\n",
        "print(\"length of age set\",len(age_set))"
      ],
      "metadata": {
        "colab": {
          "base_uri": "https://localhost:8080/"
        },
        "id": "dlKzn-KGXThZ",
        "outputId": "5a8b2c6e-9e6a-4fc4-dd58-9ab583542ea4"
      },
      "execution_count": 10,
      "outputs": [
        {
          "output_type": "stream",
          "name": "stdout",
          "text": [
            "length of it companies 7\n",
            "{'IBM', 'Facebook', 'Amazon', 'Twitter', 'Microsoft', 'Apple', 'Oracle', 'Google'}\n",
            "{'Amazon', 'Twitter', 'sony', 'Apple', 'Oracle', 'Google', 'IBM', 'Facebook', 'intel', 'Microsoft'}\n",
            "{'Amazon', 'Twitter', 'Apple', 'Oracle', 'Google', 'IBM', 'Facebook', 'intel', 'Microsoft'}\n",
            "a union b {19, 20, 22, 24, 25, 26, 27, 28}\n",
            "a intersection b {19, 20, 22, 24, 25, 26}\n",
            "is a subset of b True\n",
            "is disjoint of b False\n",
            "join a with b {19, 20, 22, 24, 25, 26, 27, 28}\n",
            "join b with a {19, 20, 22, 24, 25, 26, 27, 28}\n",
            "symmetric difference {27, 28}\n",
            "length of age list 8\n",
            "length of age set 5\n"
          ]
        }
      ]
    }
  ]
}